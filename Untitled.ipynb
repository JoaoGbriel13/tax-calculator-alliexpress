{
 "cells": [
  {
   "cell_type": "code",
   "execution_count": 45,
   "id": "8e25cf1f",
   "metadata": {},
   "outputs": [],
   "source": [
    "from selenium import webdriver\n",
    "from selenium.webdriver.chrome.service import Service\n",
    "from webdriver_manager.chrome import ChromeDriverManager\n",
    "import requests\n",
    "import re\n",
    "\n"
   ]
  },
  {
   "cell_type": "code",
   "execution_count": 46,
   "id": "2c1348c5",
   "metadata": {},
   "outputs": [
    {
     "name": "stdout",
     "output_type": "stream",
     "text": [
      "5.782 1.194 <class 'float'> <class 'float'>\n"
     ]
    }
   ],
   "source": [
    "service = Service(ChromeDriverManager().install())\n",
    "nav = webdriver.Chrome(service=service)\n",
    "nav.get(\"https://pt.aliexpress.com/item/1005005221154364.html?spm=a2g0o.store_pc_groupList.8148356.55.52993873OALexu&pdp_npi=3%40dis%21USD%21US%20%241%2C099.00%21US%20%241%2C099.00%21%21%21%21%21%40210321dc16935106785744969efbe1%2112000032240925683%21sh%21BR%213761849529\")\n",
    "\n",
    "# Puxando o preço do produto\n",
    "price = nav.find_element('class name', 'product-price-current')\n",
    "final_price = re.findall(r'\\d+\\.\\d+',price.text.replace(\"R$\", \"\").replace(\",\", \".\").strip())\n",
    "price_converted = float(final_price[0])\n",
    "# Puxando o Frete\n",
    "shipping = nav.find_element('class name', 'dynamic-shipping-line')\n",
    "final_shipping = re.findall(r'\\d+\\.\\d+', shipping.text.replace(\"R$\", \"\").replace(\",\",\".\").strip())\n",
    "shipping_converted = float(final_shipping[0])\n",
    "\n",
    "#Conferindo se os valores foram convertidos\n",
    "print(price_converted, shipping_converted, type(price_converted), type(shipping_converted))\n",
    "nav.close()"
   ]
  },
  {
   "cell_type": "code",
   "execution_count": 47,
   "id": "087c06be",
   "metadata": {},
   "outputs": [
    {
     "name": "stdout",
     "output_type": "stream",
     "text": [
      "4.95\n"
     ]
    }
   ],
   "source": [
    "#Somando os valores\n",
    "final = price_converted + shipping_converted\n",
    "\n",
    "#Pegando cotação com a API de cotação\n",
    "url = requests.get('https://economia.awesomeapi.com.br/json/last/USD-BRL')\n",
    "cotacao = float(url.json()[\"USDBRL\"][\"bid\"])\n",
    "print(round(cotacao, 2))"
   ]
  },
  {
   "cell_type": "code",
   "execution_count": 48,
   "id": "2d5310dd",
   "metadata": {},
   "outputs": [
    {
     "name": "stdout",
     "output_type": "stream",
     "text": [
      "Valor final igual a:6.976\n"
     ]
    }
   ],
   "source": [
    "if final / cotacao > 50:\n",
    "    print(f\"Valor final igual a: {final / 0.60 + final}\")\n",
    "else:\n",
    "    print(f\"Valor final igual a:{final}\")"
   ]
  },
  {
   "cell_type": "code",
   "execution_count": null,
   "id": "6489b873",
   "metadata": {},
   "outputs": [],
   "source": []
  }
 ],
 "metadata": {
  "kernelspec": {
   "display_name": "Python 3 (ipykernel)",
   "language": "python",
   "name": "python3"
  },
  "language_info": {
   "codemirror_mode": {
    "name": "ipython",
    "version": 3
   },
   "file_extension": ".py",
   "mimetype": "text/x-python",
   "name": "python",
   "nbconvert_exporter": "python",
   "pygments_lexer": "ipython3",
   "version": "3.11.4"
  }
 },
 "nbformat": 4,
 "nbformat_minor": 5
}
